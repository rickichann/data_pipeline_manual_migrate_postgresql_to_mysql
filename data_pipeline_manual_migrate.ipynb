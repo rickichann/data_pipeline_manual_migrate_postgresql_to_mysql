{
 "cells": [
  {
   "cell_type": "code",
   "execution_count": 439,
   "id": "8f6e0d97",
   "metadata": {},
   "outputs": [],
   "source": [
    "import pandas as pd\n",
    "from sqlalchemy import create_engine\n",
    "import datetime as dt\n",
    "import pytz\n",
    "from urllib.parse import urlencode, quote\n",
    "import requests"
   ]
  },
  {
   "cell_type": "markdown",
   "id": "82515773",
   "metadata": {},
   "source": [
    "== Insert All Data == "
   ]
  },
  {
   "cell_type": "code",
   "execution_count": 440,
   "id": "5e1d825a",
   "metadata": {},
   "outputs": [],
   "source": [
    "MYSQL_ADDRESS = '....' \n",
    "MYSQL_PORT = '....' \n",
    "MYSQL_USERNAME = '....' \n",
    "MYSQL_PASSWORD = '....' \n",
    "MYSQL_DBNAME = '....' \n",
    "mysql_str = ('mysql+pymysql://{username}:{password}@{ipaddress}:{port}/{dbname}'.format(username=MYSQL_USERNAME, password=MYSQL_PASSWORD, ipaddress=MYSQL_ADDRESS, port=MYSQL_PORT,dbname=MYSQL_DBNAME))\n",
    "# Create the connection\n",
    "cnx_wh = create_engine(mysql_str)"
   ]
  },
  {
   "cell_type": "code",
   "execution_count": 441,
   "id": "af9aadf6",
   "metadata": {},
   "outputs": [
    {
     "data": {
      "text/plain": [
       "'\"336512\"'"
      ]
     },
     "execution_count": 441,
     "metadata": {},
     "output_type": "execute_result"
    }
   ],
   "source": [
    "li = '\"'+last_index+'\"'\n",
    "li"
   ]
  },
  {
   "cell_type": "code",
   "execution_count": 442,
   "id": "903a8e0a",
   "metadata": {},
   "outputs": [],
   "source": [
    "dff = pd.read_sql_query('''\n",
    "SELECT\n",
    "\tcolumn_name_1,\n",
    "    column_name_2,\n",
    "    \n",
    "FROM\n",
    "\ttable_name\n",
    "where id > {}\n",
    "order by id asc\n",
    "limit 50000\n",
    "'''.format(li), cnx_wh)\n"
   ]
  },
  {
   "cell_type": "code",
   "execution_count": null,
   "id": "93cc320d",
   "metadata": {},
   "outputs": [],
   "source": [
    "dff.head()"
   ]
  },
  {
   "cell_type": "code",
   "execution_count": 444,
   "id": "0b2883e3",
   "metadata": {},
   "outputs": [],
   "source": [
    "# Handling invalid_date (optional)\n",
    "# dff['transaction_date'] = dff['transaction_date'].apply(lambda x : '1111-11-11 11:11:11' if x == '0000-00-00 00:00:00' else x)"
   ]
  },
  {
   "cell_type": "code",
   "execution_count": 445,
   "id": "dff31569",
   "metadata": {},
   "outputs": [],
   "source": [
    "POSTGRES_ADDRESS = '....' \n",
    "POSTGRES_PORT = '....' \n",
    "POSTGRES_USERNAME = '....'  \n",
    "POSTGRES_PASSWORD = '....' \n",
    "POSTGRES_DBNAME = '....' \n",
    "postgres_str = ('postgresql://{username}:{password}@{ipaddress}:{port}/{dbname}'.format(username=POSTGRES_USERNAME, password=POSTGRES_PASSWORD, ipaddress=POSTGRES_ADDRESS, port=POSTGRES_PORT,dbname=POSTGRES_DBNAME))\n",
    "cnx_wh2 = create_engine(postgres_str)\n",
    "conn2 = cnx_wh2.connect()"
   ]
  },
  {
   "cell_type": "code",
   "execution_count": 446,
   "id": "350adf4c",
   "metadata": {},
   "outputs": [],
   "source": [
    "dff.to_sql('table_name', con=conn2, if_exists='append',index=False, method='multi')"
   ]
  },
  {
   "cell_type": "code",
   "execution_count": 447,
   "id": "0515fdb6",
   "metadata": {},
   "outputs": [],
   "source": [
    "last_index = str(dff.tail(1)[['id']].values[0][0])"
   ]
  },
  {
   "cell_type": "code",
   "execution_count": null,
   "id": "65b1cb7e",
   "metadata": {},
   "outputs": [],
   "source": [
    "last_index"
   ]
  }
 ],
 "metadata": {
  "kernelspec": {
   "display_name": "Python 3",
   "language": "python",
   "name": "python3"
  },
  "language_info": {
   "codemirror_mode": {
    "name": "ipython",
    "version": 3
   },
   "file_extension": ".py",
   "mimetype": "text/x-python",
   "name": "python",
   "nbconvert_exporter": "python",
   "pygments_lexer": "ipython3",
   "version": "3.8.8"
  }
 },
 "nbformat": 4,
 "nbformat_minor": 5
}
